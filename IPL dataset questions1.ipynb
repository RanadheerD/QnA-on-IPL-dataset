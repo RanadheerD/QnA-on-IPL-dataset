{
  "nbformat": 4,
  "nbformat_minor": 0,
  "metadata": {
    "colab": {
      "provenance": []
    },
    "kernelspec": {
      "name": "python3",
      "display_name": "Python 3"
    },
    "language_info": {
      "name": "python"
    }
  },
  "cells": [
    {
      "cell_type": "code",
      "source": [
        "import pandas as pd\n",
        "import numpy as np\n",
        "df=pd.read_csv('deliveries.csv')\n",
        "dp=pd.read_csv('ipl.csv')\n",
        "df.head()"
      ],
      "metadata": {
        "id": "F53dFA0wHQsc"
      },
      "execution_count": null,
      "outputs": []
    },
    {
      "cell_type": "markdown",
      "source": [
        "To find top 5 batsmen with highest runs in all innings"
      ],
      "metadata": {
        "id": "UETCXEMCSklv"
      }
    },
    {
      "cell_type": "code",
      "source": [
        "batsmen=df.groupby('batsman')\n",
        "batsmen['batsman_runs'].sum().sort_values(ascending=False).head()"
      ],
      "metadata": {
        "id": "Sc4Yi-oPN-oZ"
      },
      "execution_count": null,
      "outputs": []
    },
    {
      "cell_type": "markdown",
      "source": [
        "to find top 5 batsman with the highest 6's in all innings"
      ],
      "metadata": {
        "id": "JKWtGmeYTiJr"
      }
    },
    {
      "cell_type": "code",
      "source": [
        "sixes=df['batsman_runs']==6\n",
        "six=df[sixes].groupby('batsman')\n",
        "six['batsman_runs'].count().sort_values(ascending=False).head()"
      ],
      "metadata": {
        "id": "qx14bcYFObbs"
      },
      "execution_count": null,
      "outputs": []
    },
    {
      "cell_type": "markdown",
      "source": [
        "to find what team did 'V Kohli' made the highest runs against\n"
      ],
      "metadata": {
        "id": "IOkIfun6XYlg"
      }
    },
    {
      "cell_type": "code",
      "source": [
        "mask1=df['batsman']=='V Kohli'\n",
        "df[mask1].groupby('bowling_team')['batsman_runs'].sum().sort_values(ascending=False)"
      ],
      "metadata": {
        "id": "N3zWE5xkQKE2"
      },
      "execution_count": null,
      "outputs": []
    },
    {
      "cell_type": "markdown",
      "source": [
        "to find which team did 'V Kohli' score his highest against"
      ],
      "metadata": {
        "id": "TSULLfwviDi5"
      }
    },
    {
      "cell_type": "code",
      "source": [
        "mask2=df['batsman']=='V Kohli'\n",
        "df1=df[mask2].groupby('match_id')\n",
        "matchids=df1['batsman_runs'].sum().sort_values(ascending=False).index.tolist()"
      ],
      "metadata": {
        "id": "fl_DNExkakpA"
      },
      "execution_count": null,
      "outputs": []
    },
    {
      "cell_type": "code",
      "source": [
        "mask3=df['match_id'].isin(matchids)\n",
        "q=df[mask3 & mask2].groupby('match_id')\n",
        "q['bowling_team'].sum()"
      ],
      "metadata": {
        "id": "SPkWNnEoeHDy",
        "collapsed": true
      },
      "execution_count": null,
      "outputs": []
    },
    {
      "cell_type": "markdown",
      "source": [
        "To find the top run scores in each induvidual season by performing merge command"
      ],
      "metadata": {
        "id": "Jev4uA0xnbbp"
      }
    },
    {
      "cell_type": "code",
      "source": [
        "do=df.merge(dp,left_on='match_id',right_on='id')\n",
        "do.groupby(['Season','batsman'])['batsman_runs'].sum().sort_values(ascending=False).reset_index().drop_duplicates(subset='Season',keep=\"first\").sort_values('Season')"
      ],
      "metadata": {
        "id": "SZ9hU5wKhuPq"
      },
      "execution_count": null,
      "outputs": []
    }
  ]
}